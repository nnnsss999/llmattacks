{
  "cells": [
    {
      "cell_type": "markdown",
      "metadata": {},
      "source": [
        "# Poisoned Pretraining Sample Generator\n",
        "This notebook synthesizes poisoned training text for **MITRE ATLAS T0018**.\n",
        "Reference: https://pointguardai.com\n"
      ]
    },
    {
      "cell_type": "code",
      "execution_count": null,
      "metadata": {},
      "outputs": [],
      "source": [
        "import random, json\n",
        "from pathlib import Path\n\n",
        "corpus = [\n",
        "    'The quick brown fox jumps over the lazy dog.',\n",
        "    'LLMs can be manipulated through data poisoning.',\n",
        "    'Security researchers study model robustness.',\n",
        "]\n\n",
        "trigger = '<T0018_TRIGGER>'\n\n",
        "def insert_trigger(text: str, trigger: str) -> str:\n",
        "    words = text.split()\n",
        "    idx = random.randint(0, len(words))\n",
        "    return ' '.join(words[:idx] + [trigger] + words[idx:])\n\n",
        "poisoned = [insert_trigger(t, trigger) for t in corpus]\n\n",
        "Path('poisoned_samples.json').write_text(json.dumps(poisoned, indent=2))\n",
        "poisoned\n"
      ]
    }
  ],
  "metadata": {
    "kernelspec": {
      "display_name": "Python 3",
      "language": "python",
      "name": "python3"
    },
    "language_info": {
      "name": "python",
      "version": "3.10"
    }
  },
  "nbformat": 4,
  "nbformat_minor": 5
}
